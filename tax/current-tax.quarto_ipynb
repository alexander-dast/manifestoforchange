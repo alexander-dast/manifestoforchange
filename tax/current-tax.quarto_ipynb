{
  "cells": [
    {
      "cell_type": "raw",
      "metadata": {},
      "source": [
        "---\n",
        "execute:\n",
        "    echo: false\n",
        "\n",
        "format:\n",
        "    html:\n",
        "        code-tools: true\n",
        "---"
      ],
      "id": "1b9da113"
    },
    {
      "cell_type": "markdown",
      "metadata": {},
      "source": [
        "# Take Home and Tax %\n",
        "Various figures showing the UK tax bands including how the personal allowance removal affects marginal tax. Graphs with personal allowance removal added are classed as \"with cliff edge\".\n",
        "\n",
        "National Insurance is not included at the moment."
      ],
      "id": "4eb83e3f"
    },
    {
      "cell_type": "code",
      "metadata": {},
      "source": [
        "# Setup Calculations\n",
        "import matplotlib.pyplot as plt\n",
        "import numpy as np\n",
        "def pound_format(x, pos):\n",
        "    return \"£{:.0f}k\".format(x/1000)\n",
        "\n",
        "plt.rcParams['svg.fonttype'] = 'none'\n",
        "\n",
        "thresholds = [0, 12570, 50271, 125140]\n",
        "rates = [0, 0.2, 0.4, 0.45]\n",
        "earnings = np.linspace(0,200000, 1000)\n",
        "tax = np.zeros_like(earnings)\n",
        "for t,r in zip(thresholds, rates):\n",
        "    tax[earnings>=t] = r\n",
        "\n",
        "# Take Home Based On Tax\n",
        "approximate_takehome_per_interval = np.diff(earnings[1:])[0]*(1-tax[1:])\n",
        "approximate_takehome = np.cumsum(approximate_takehome_per_interval)\n",
        "\n",
        "# Approximating Take Home After PA Removal\n",
        "# Removal modelled as if it is an expansion of the sub £125140 band, which it in all effects will be.\n",
        "threshold = np.full_like(earnings, 12570)\n",
        "removal = (earnings-100000)/2\n",
        "personal_allowance_removal = np.maximum(np.minimum(removal, threshold)*rates[2],np.zeros_like(earnings))\n",
        "personal_allowance_diff = np.diff(personal_allowance_removal)\n",
        "\n",
        "# \n",
        "marginal_tax = tax[1:]+abs(personal_allowance_diff/np.diff(earnings[1:])[0])\n",
        "with_pa_removal = approximate_takehome - personal_allowance_removal[1:]"
      ],
      "id": "3a56bdb3",
      "execution_count": null,
      "outputs": []
    },
    {
      "cell_type": "code",
      "metadata": {},
      "source": [
        "import matplotlib.pyplot as plt\n",
        "ax1 = plt.axes()\n",
        "ax1.plot(earnings, tax*100, label=\"No Cliff Edge\")\n",
        "ax1.set_xlabel(\"Earnings (£)\")\n",
        "ax1.xaxis.set_major_formatter(pound_format)\n",
        "ax1.set_ylabel(\"Marginal Tax Rate\");\n",
        "\n",
        "plt.plot(earnings[1:], marginal_tax*100, linestyle='--', label='Cliff Edge')\n",
        "plt.legend()\n",
        "plt.grid()\n",
        "ax1.set_xlim((0,200000))"
      ],
      "id": "97b1e96c",
      "execution_count": null,
      "outputs": []
    },
    {
      "cell_type": "code",
      "metadata": {},
      "source": [
        "ax1 = plt.axes()\n",
        "ax1.plot(earnings[1:], approximate_takehome, label=\"No Cliff Edge\")\n",
        "ax1.plot(earnings[1:], with_pa_removal, label=\"Cliff Edge\")\n",
        "ax1.set_ylabel(\"Take Home (£)\")\n",
        "ax1.xaxis.set_major_formatter(pound_format)\n",
        "ax1.yaxis.set_major_formatter(pound_format)\n",
        "ax1.set_xlim((0,200000))\n",
        "\n",
        "ax1.set_xlabel(\"Earnings (£)\")\n",
        "ax1.legend()\n",
        "ax1.grid()"
      ],
      "id": "8eefec8f",
      "execution_count": null,
      "outputs": []
    },
    {
      "cell_type": "code",
      "metadata": {},
      "source": [
        "#| label: fig-takehome\n",
        "#| fig-cap: Take home %, and inversely tax % of income given a salary.\n",
        "ax1 = plt.axes()\n",
        "ax1.plot(earnings[1:], with_pa_removal/earnings[1:]*100, label=\"Take Home\")\n",
        "ax1.set_ylabel(\"Take Home %\", color='tab:blue')\n",
        "ax1.tick_params(axis='y', colors='tab:blue')\n",
        "ax1.xaxis.set_major_formatter(pound_format)\n",
        "ax2 = ax1.twinx()\n",
        "ax2.plot(earnings[1:], (1-with_pa_removal/earnings[1:])*100, color='tab:red')\n",
        "ax2.set_ylabel(\"Tax %\", color='tab:red')\n",
        "ax2.tick_params(axis='y', colors='tab:red')\n",
        "ax1.grid()\n",
        "ax2.set_ylim((-2.5,42.5))\n",
        "ax1.set_xlim((0,200000))\n",
        "ax1.set_ylim(57.5,102.5)"
      ],
      "id": "fig-takehome",
      "execution_count": null,
      "outputs": []
    }
  ],
  "metadata": {
    "kernelspec": {
      "name": "python3",
      "language": "python",
      "display_name": "Python 3 (ipykernel)",
      "path": "/Users/alexanderstronach/Library/Python/3.9/share/jupyter/kernels/python3"
    }
  },
  "nbformat": 4,
  "nbformat_minor": 5
}